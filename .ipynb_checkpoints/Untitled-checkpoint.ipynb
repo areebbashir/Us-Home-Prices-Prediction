{
 "cells": [
  {
   "cell_type": "markdown",
   "metadata": {},
   "source": [
    "# DATA SCIENCE MODEL FOR PREDICTING US HOME PRICES \n",
    "\n",
    "The goal of the model is to build a Data Science model for predicting US Home Prices in the Future. I have selected some key supply demand factors from the internet that may have influenced the prices over the past 20 years.\n",
    "\n",
    "CPI: https://fred.stlouisfed.org/series/CPIAUCSL \n",
    "\n",
    "Unemployment Rate: https://fred.stlouisfed.org/series/UNRATE\n",
    "\n",
    "Federal Funds Rate: https://fred.stlouisfed.org/series/FEDFUNDS\n",
    "\n",
    "Consumer Opinion Surveys: Confidence Indicators: https://fred.stlouisfed.org/series/CSCICP03USM665S\n",
    "\n",
    "Monthly Supply Of Houses: https://fred.stlouisfed.org/series/MSACSR\n",
    "\n",
    "New One Family Houses Sold: https://fred.stlouisfed.org/series/HSN1F\n",
    "\n",
    "Mortgage Rate – 30-Year Fixed: https://fred.stlouisfed.org/series/MORTGAGE30US\n",
    "\n",
    "Personal Consumption Expenditure: https://fred.stlouisfed.org/series/PCE\n",
    "\n",
    "Gross Private Domestic Investment: https://fred.stlouisfed.org/series/GPDI\n",
    "\n",
    "Federal Government: Current Expenditures: https://fred.stlouisfed.org/series/FGEXPND\n",
    "\n",
    "Working Age Population: Aged 15-64: All Persons for the United States: https://fred.stlouisfed.org/series/LFWA64TTUSM647S\n",
    "\n",
    "Housing Credit Availability Index: https://www.urban.org/policy-centers/housing-finance-policy-center/projects/housing-credit-availability-index\n",
    "\n",
    "Total Construction Spending: https://fred.stlouisfed.org/series/TTLCONS\n",
    "\n",
    "Home Price Index : https://fred.stlouisfed.org/series/CSUSHPISA.\n",
    "\n",
    "These factors after required preprocessing were merged into one dataset except the Home Price Index which was taken as a proxy for home prices.\n",
    "The data was taken from 1st Jan 2001 to 31st Dec 2020. I split the data into training(80%) and test(20%). The models were selected on the basis of RMSE score and Random Forest Model was seen as the best performing model.\n"
   ]
  },
  {
   "cell_type": "markdown",
   "metadata": {},
   "source": [
    "# Importing Libraries"
   ]
  },
  {
   "cell_type": "code",
   "execution_count": null,
   "metadata": {},
   "outputs": [],
   "source": [
    "import pandas as pd\n",
    "import numpy as np\n",
    "import matplotlib.pyplot as plt\n",
    "import seaborn as sns\n",
    "import plotly.express as px\n",
    "import plotly.offline as py \n",
    "import plotly.graph_objects as go             \n",
    "from plotly.subplots import make_subplots\n",
    "from sklearn.model_selection import train_test_split\n",
    "from sklearn.svm import SVR \n",
    "from sklearn.ensemble import RandomForestRegressor\n",
    "from sklearn.model_selection import train_test_split\n",
    "from sklearn.metrics import mean_squared_error, mean_absolute_error\n",
    "plt.style.use('seaborn')\n",
    "%matplotlib inline\n",
    "from IPython.display import set_matplotlib_formats\n",
    "#set_matplotlib_formats('retina')\n",
    "import warnings\n",
    "warnings.filterwarnings(\"ignore\")"
   ]
  },
  {
   "cell_type": "markdown",
   "metadata": {},
   "source": [
    "# CPI\n",
    "The Consumer Price Index is a measure of the average monthly change in the price for goods and services paid by urban consumers. It is used to recognize periods of inflation and deflation. The data was available at a monthly frequency"
   ]
  },
  {
   "cell_type": "code",
   "execution_count": null,
   "metadata": {},
   "outputs": [],
   "source": [
    "#importing data\n",
    "cpi= pd.read_csv(r\"CPIAUCSL.csv\")\n",
    "#removing data before 2000\n",
    "cpi=cpi[cpi['DATE']>='2000-01-01']\n",
    "cpi['DATE']=pd.to_datetime(cpi[\"DATE\"])\n",
    "cpi=cpi[:252]"
   ]
  },
  {
   "cell_type": "markdown",
   "metadata": {},
   "source": [
    "From the plot we see that CPI through the years has increased but has seen the dip in times of recession in the economy. We see dip in 2001 recession and a big dip in 2008 crises. There is also a dip in 2020 but it is because of the COVID-19 effects on economy "
   ]
  },
  {
   "cell_type": "code",
   "execution_count": null,
   "metadata": {},
   "outputs": [],
   "source": [
    "fig = go.Figure()\n",
    "fig.add_trace(go.Line(x=cpi['DATE'], y= cpi['CPIAUCSL'], name='Consumer Price Index', marker_color='rgb(255, 22, 55)'))\n",
    "fig.update_layout(title='Consumer Price Index in the past 20 years',xaxis_tickfont_size=14,\n",
    "                  yaxis=dict(title='Index',titlefont_size=16,tickfont_size=14,),\n",
    "    legend=dict(x=0,y=1.0,bgcolor='rgba(255, 255, 255,0)',bordercolor='rgba(255, 255, 255, 0)'),barmode='group',bargap=0.15, bargroupgap=0.1)\n",
    "fig.show()"
   ]
  },
  {
   "cell_type": "markdown",
   "metadata": {},
   "source": [
    "# UNEMPLOYMENT\n",
    "The Unemployment Rate represents the number of unemployed as a percentage of the labor force.\n",
    "\n"
   ]
  },
  {
   "cell_type": "code",
   "execution_count": null,
   "metadata": {},
   "outputs": [],
   "source": [
    "#importing data\n",
    "unemployment= pd.read_csv('UNRATE.csv')\n",
    "#removing data before 2000\n",
    "unemployment=unemployment[unemployment['DATE']>='2000-01-01']\n",
    "unemployment['DATE']=pd.to_datetime(unemployment[\"DATE\"])\n",
    "unemployment=unemployment[:252]"
   ]
  },
  {
   "cell_type": "markdown",
   "metadata": {},
   "source": [
    "From the plot we see that Unemployment rate has varied throughout the years but has seen the huge jump in times of recession in the economy. We see jump in 2001 recession and a big dip in 2008 crises. There is also a big peak in 2020 but it is because of the COVID-19 effects on economy"
   ]
  },
  {
   "cell_type": "code",
   "execution_count": null,
   "metadata": {
    "scrolled": false
   },
   "outputs": [],
   "source": [
    "fig = go.Figure()\n",
    "fig.add_trace(go.Line(x=unemployment['DATE'], y= unemployment['UNRATE'], name='Unemployment Rate', marker_color='rgb(255, 22, 55)'))\n",
    "fig.update_layout(title='Unemployment Rate in the past 20 years',xaxis_tickfont_size=14,\n",
    "                  yaxis=dict(title='Index',titlefont_size=16,tickfont_size=14,),\n",
    "    legend=dict(x=0,y=1.0,bgcolor='rgba(255, 255, 255,0)',bordercolor='rgba(255, 255, 255, 0)'),barmode='group',bargap=0.15, bargroupgap=0.1)\n",
    "fig.show()"
   ]
  },
  {
   "cell_type": "markdown",
   "metadata": {},
   "source": [
    "# FEDERAL FUNDS RATE\n",
    "The Federal Funds Rate is the central interest rate in the U.S. financial market. It indirectly influences longer- term interest rates such as mortgages, loans, and savings."
   ]
  },
  {
   "cell_type": "code",
   "execution_count": null,
   "metadata": {},
   "outputs": [],
   "source": [
    "#importing data\n",
    "interest_rates=pd.read_csv('FEDFUNDS.csv')\n",
    "#removing data before 2000\n",
    "interest_rates=interest_rates[interest_rates['DATE']>='2000-01-01']\n",
    "interest_rates['DATE']=pd.to_datetime(cons_confidence[\"DATE\"])\n",
    "interest_rates=interest_rates[:252]"
   ]
  },
  {
   "cell_type": "markdown",
   "metadata": {},
   "source": [
    "From the plot we see that Federal funds rate has varied throughout the years. After the recession of 2008 we see that these rates remained low for a large period of time until 2016."
   ]
  },
  {
   "cell_type": "code",
   "execution_count": null,
   "metadata": {},
   "outputs": [],
   "source": [
    "fig = go.Figure()\n",
    "fig.add_trace(go.Line(x=interest_rates['DATE'], y= interest_rates['FEDFUNDS'], name='Interest Rates', marker_color='rgb(255, 22, 55)'))\n",
    "fig.update_layout(title='Federal Funds Rate in the past 20 years',xaxis_tickfont_size=14,\n",
    "                  yaxis=dict(title='Index',titlefont_size=16,tickfont_size=14,),\n",
    "    legend=dict(x=0,y=1.0,bgcolor='rgba(255, 255, 255,0)',bordercolor='rgba(255, 255, 255, 0)'),barmode='group',bargap=0.15, bargroupgap=0.1)\n",
    "fig.show()"
   ]
  },
  {
   "cell_type": "markdown",
   "metadata": {},
   "source": [
    "# SENTIMENT\n",
    "This Consumer Confidence Indicator provides an indication of future developments of households’ consumption and saving, based upon answers regarding their expected financial situation, their sentiment about the general economic situation, unemployment and capability of savings. An indicator above 100 signals a boost in the consumers’ confidence towards the future economic situation, and vice versa."
   ]
  },
  {
   "cell_type": "code",
   "execution_count": null,
   "metadata": {},
   "outputs": [],
   "source": [
    "#importing data\n",
    "cons_confidence=pd.read_csv('CSCICP03USM665S.csv')\n",
    "#removing data before 2000\n",
    "cons_confidence=cons_confidence[cons_confidence['DATE']>='2000-01-01']\n",
    "cons_confidence['DATE']=pd.to_datetime(cons_confidence[\"DATE\"])\n",
    "cons_confidence=cons_confidence[:252]"
   ]
  },
  {
   "cell_type": "markdown",
   "metadata": {},
   "source": [
    "From the plot we see that Federal funds rate has varied throughout the years. At the recession of 2008 we see that this indicator was at all time low"
   ]
  },
  {
   "cell_type": "code",
   "execution_count": null,
   "metadata": {},
   "outputs": [],
   "source": [
    "fig = go.Figure()\n",
    "fig.add_trace(go.Line(x=cons_confidence['DATE'], y= cons_confidence['CSCICP03USM665S'], name=' Consumer Confidence Indicator ', marker_color='rgb(255, 22, 55)'))\n",
    "fig.update_layout(title=' Consumer Confidence Indicator in the past 20 years',xaxis_tickfont_size=14,\n",
    "                  yaxis=dict(title='Index',titlefont_size=16,tickfont_size=14,),\n",
    "    legend=dict(x=0,y=1.0,bgcolor='rgba(255, 255, 255,0)',bordercolor='rgba(255, 255, 255, 0)'),barmode='group',bargap=0.15, bargroupgap=0.1)\n",
    "fig.show()"
   ]
  },
  {
   "cell_type": "markdown",
   "metadata": {},
   "source": [
    "# SUPPLY\n",
    "The Months Supply is the ratio of houses for sale to houses sold. This statistic provides an indication of the size of the for-sale inventory in relation to the number of houses currently being sold."
   ]
  },
  {
   "cell_type": "code",
   "execution_count": null,
   "metadata": {},
   "outputs": [],
   "source": [
    "#importing data\n",
    "supply=pd.read_csv('MSACSR.csv')\n",
    "#removing data before 2000\n",
    "supply=supply[supply['DATE']>='2000-01-01']\n",
    "supply['DATE']=pd.to_datetime(supply[\"DATE\"])\n",
    "supply=supply[:252]"
   ]
  },
  {
   "cell_type": "code",
   "execution_count": null,
   "metadata": {},
   "outputs": [],
   "source": [
    "fig = go.Figure()\n",
    "fig.add_trace(go.Line(x=supply['DATE'], y= supply['MSACSR'], name=' Months Supply of Houses ', marker_color='rgb(255, 22, 55)'))\n",
    "fig.update_layout(title=' Months Supply of Houses in the past 20 years',xaxis_tickfont_size=14,\n",
    "                  yaxis=dict(title='Index',titlefont_size=16,tickfont_size=14,),\n",
    "    legend=dict(x=0,y=1.0,bgcolor='rgba(255, 255, 255,0)',bordercolor='rgba(255, 255, 255, 0)'),barmode='group',bargap=0.15, bargroupgap=0.1)\n",
    "fig.show()"
   ]
  },
  {
   "cell_type": "markdown",
   "metadata": {},
   "source": [
    "# HOUSE_SALES\n",
    "The Number of One Family Houses Sold every month. The is the main indicator of housing demand."
   ]
  },
  {
   "cell_type": "code",
   "execution_count": null,
   "metadata": {},
   "outputs": [],
   "source": [
    "#importing data\n",
    "one_family_sales=pd.read_csv('HSN1F.csv')\n",
    "#removing data before 2000\n",
    "one_family_sales=one_family_sales[one_family_sales['DATE']>='2000-01-01']\n",
    "one_family_sales['DATE']=pd.to_datetime(one_family_sales[\"DATE\"])\n",
    "one_family_sales=one_family_sales[:252]"
   ]
  },
  {
   "cell_type": "code",
   "execution_count": null,
   "metadata": {},
   "outputs": [],
   "source": [
    "fig = go.Figure()\n",
    "fig.add_trace(go.Line(x=one_family_sales['DATE'], y= one_family_sales['HSN1F'], name='  Number of One Family Houses Sold every month ', marker_color='rgb(255, 22, 55)'))\n",
    "fig.update_layout(title=' Number of One Family Houses Sold every month in the past 20 years',xaxis_tickfont_size=14,\n",
    "                  yaxis=dict(title='Index',titlefont_size=16,tickfont_size=14,),\n",
    "    legend=dict(x=0,y=1.0,bgcolor='rgba(255, 255, 255,0)',bordercolor='rgba(255, 255, 255, 0)'),barmode='group',bargap=0.15, bargroupgap=0.1)\n",
    "fig.show()"
   ]
  },
  {
   "cell_type": "markdown",
   "metadata": {},
   "source": [
    "# CONSUMPTION\n",
    "The monthly Personal Consumption Expenditure is the largest component of economic growth."
   ]
  },
  {
   "cell_type": "code",
   "execution_count": null,
   "metadata": {},
   "outputs": [],
   "source": [
    "#importing data\n",
    "per_consumption=pd.read_csv('PCE.csv')\n",
    "#removing data before 2000\n",
    "per_consumption=per_consumption[per_consumption['DATE']>='2000-01-01']\n",
    "per_consumption['DATE']=pd.to_datetime(per_consumption[\"DATE\"])\n",
    "per_consumption=per_consumption[:252]"
   ]
  },
  {
   "cell_type": "code",
   "execution_count": null,
   "metadata": {},
   "outputs": [],
   "source": [
    "fig = go.Figure()\n",
    "fig.add_trace(go.Line(x=per_consumption['DATE'], y= per_consumption['PCE'], name=' Personal Consumption Expenditure ', marker_color='rgb(255, 22, 55)'))\n",
    "fig.update_layout(title=' Personal Consumption Expenditure in the past 20 years',xaxis_tickfont_size=14,\n",
    "                  yaxis=dict(title='Index',titlefont_size=16,tickfont_size=14,),\n",
    "    legend=dict(x=0,y=1.0,bgcolor='rgba(255, 255, 255,0)',bordercolor='rgba(255, 255, 255, 0)'),barmode='group',bargap=0.15, bargroupgap=0.1)\n",
    "fig.show()"
   ]
  },
  {
   "cell_type": "markdown",
   "metadata": {},
   "source": [
    "# WORKING_AGE_POP\n",
    "The Working Age Population estimates the total population of people aged 15-64 in the US."
   ]
  },
  {
   "cell_type": "code",
   "execution_count": null,
   "metadata": {},
   "outputs": [],
   "source": [
    "#importing data\n",
    "workingage_pop=pd.read_csv('LFWA64TTUSM647S.csv')\n",
    "#removing data before 2000\n",
    "workingage_pop=workingage_pop[workingage_pop['DATE']>='2000-01-01']\n",
    "workingage_pop['DATE']=pd.to_datetime(workingage_pop[\"DATE\"])\n",
    "workingage_pop=workingage_pop[:252]"
   ]
  },
  {
   "cell_type": "code",
   "execution_count": null,
   "metadata": {},
   "outputs": [],
   "source": [
    "fig = go.Figure()\n",
    "fig.add_trace(go.Line(x=workingage_pop['DATE'], y= workingage_pop['LFWA64TTUSM647S'], name='  Working Age Population ', marker_color='rgb(255, 22, 55)'))\n",
    "fig.update_layout(title='Working Age Population in the past 20 years',xaxis_tickfont_size=14,\n",
    "                  yaxis=dict(title='Index',titlefont_size=16,tickfont_size=14,),\n",
    "    legend=dict(x=0,y=1.0,bgcolor='rgba(255, 255, 255,0)',bordercolor='rgba(255, 255, 255, 0)'),barmode='group',bargap=0.15, bargroupgap=0.1)\n",
    "fig.show()"
   ]
  },
  {
   "cell_type": "markdown",
   "metadata": {},
   "source": [
    "# CONSTRUCTION SPEND\n",
    "The monthly Constructuion Spend in the US. An important economic indicator of housing demand.\n",
    "\n"
   ]
  },
  {
   "cell_type": "code",
   "execution_count": null,
   "metadata": {},
   "outputs": [],
   "source": [
    "#importing data\n",
    "construction_spend=pd.read_csv('TTLCONS.csv')\n",
    "#removing data before 2000\n",
    "construction_spend=construction_spend[construction_spend['DATE']>='2000-01-01']\n",
    "construction_spend['DATE']=pd.to_datetime(construction_spend[\"DATE\"])\n",
    "construction_spend=construction_spend[:252]"
   ]
  },
  {
   "cell_type": "code",
   "execution_count": null,
   "metadata": {},
   "outputs": [],
   "source": [
    "fig = go.Figure()\n",
    "fig.add_trace(go.Line(x=construction_spend['DATE'], y= construction_spend['TTLCONS'], name='Construction Spend ', marker_color='rgb(255, 22, 55)'))\n",
    "fig.update_layout(title='Construction Spend in the past 20 years',xaxis_tickfont_size=14,\n",
    "                  yaxis=dict(title='Index',titlefont_size=16,tickfont_size=14,),\n",
    "    legend=dict(x=0,y=1.0,bgcolor='rgba(255, 255, 255,0)',bordercolor='rgba(255, 255, 255, 0)'),barmode='group',bargap=0.15, bargroupgap=0.1)\n",
    "fig.show()"
   ]
  },
  {
   "cell_type": "markdown",
   "metadata": {},
   "source": [
    "# MORTGAGE_RATE\n",
    "The 30-Year Fixed Rate Mortgage Average in the United States. A fixed-rate mortgage is a loan where the interest rate remains the same through the term of the loan. The data was available on a weekly frequency and was subsequently preprocessed to be in the monthly frequency"
   ]
  },
  {
   "cell_type": "code",
   "execution_count": null,
   "metadata": {},
   "outputs": [],
   "source": [
    "mortgage=pd.read_csv('MORTGAGE30US.csv')\n",
    "mortgage=mortgage[mortgage['DATE']>='2000-01-01']\n",
    "mortgage[\"DATE\"]=pd.to_datetime(mortgage[\"DATE\"])\n",
    "\n",
    "'''converting the frequency of the data into monthly basis by taking the mean of those weaks'''\n",
    "mort_rates=[]\n",
    "for year in mortgage[\"DATE\"].dt.year.unique():\n",
    "    x=mortgage[mortgage[\"DATE\"].dt.year==year]\n",
    "    #print(x[\"DATE\"].dt.year)\n",
    "    for month in x['DATE'].dt.month.unique():\n",
    "        y=x[x['DATE'].dt.month==month]\n",
    "        z=y['MORTGAGE30US'].values.mean()\n",
    "        mort_rates.append(round(z,2))\n",
    "mort_rates=mort_rates[:252] \n",
    "mort_rates_data={'DATE':cpi[\"DATE\"], \" MORT_RATE\":mort_rates}\n",
    "mort_rates_df=pd.DataFrame(mort_rates_data)"
   ]
  },
  {
   "cell_type": "code",
   "execution_count": null,
   "metadata": {
    "scrolled": false
   },
   "outputs": [],
   "source": [
    "fig = go.Figure()\n",
    "fig.add_trace(go.Line(x=construction_spend['DATE'], y= mort_rates, name='30-Year Fixed Rate Mortgage Average ', marker_color='rgb(255, 22, 55)'))\n",
    "fig.update_layout(title='30-Year Fixed Rate Mortgage Average in the past 20 years',xaxis_tickfont_size=14,\n",
    "                  yaxis=dict(title='Index',titlefont_size=16,tickfont_size=14,),\n",
    "    legend=dict(x=0,y=1.0,bgcolor='rgba(255, 255, 255,0)',bordercolor='rgba(255, 255, 255, 0)'),barmode='group',bargap=0.15, bargroupgap=0.1)\n",
    "fig.show()"
   ]
  },
  {
   "cell_type": "markdown",
   "metadata": {},
   "source": [
    "# INVESTMENT\n",
    "The Gross Private Domestic Investment (GPDI) is a measure of the amount of money that domestic businesses invest within their own country, and is one of the components of the GDP. The data was available on quarterly basis and was subsequently converted."
   ]
  },
  {
   "cell_type": "code",
   "execution_count": null,
   "metadata": {},
   "outputs": [],
   "source": [
    "gdpi=pd.read_csv('GPDI.csv')\n",
    "gdpi=gdpi[gdpi['DATE']>='2000-01-01']\n",
    "gdpi[\"DATE\"]=pd.to_datetime(gdpi[\"DATE\"])\n",
    "\n",
    "gpdi_=[]\n",
    "for year in gdpi['DATE'].dt.year.unique():\n",
    "    x=gdpi[gdpi['DATE'].dt.year==year]\n",
    "    for month in x['DATE'].dt.month.unique():\n",
    "        y=x[x['DATE'].dt.month==month]\n",
    "        for i in range(3):\n",
    "            gpdi_.append(round(y['GPDI'].values.mean(),2))\n",
    "gpdi_data={'DATE':cpi[\"DATE\"],'GPDI':gpdi_}\n",
    "gdpi_df=pd.DataFrame(gpdi_data)"
   ]
  },
  {
   "cell_type": "code",
   "execution_count": null,
   "metadata": {},
   "outputs": [],
   "source": [
    "fig = go.Figure()\n",
    "fig.add_trace(go.Line(x=construction_spend['DATE'], y= gpdi_, name='Gross Private Domestic Investment (GPDI) ', marker_color='rgb(255, 22, 55)'))\n",
    "fig.update_layout(title='Gross Private Domestic Investment (GPDI) in the past 20 years',xaxis_tickfont_size=14,\n",
    "                  yaxis=dict(title='Index',titlefont_size=16,tickfont_size=14,),\n",
    "    legend=dict(x=0,y=1.0,bgcolor='rgba(255, 255, 255,0)',bordercolor='rgba(255, 255, 255, 0)'),barmode='group',bargap=0.15, bargroupgap=0.1)\n",
    "fig.show()"
   ]
  },
  {
   "cell_type": "markdown",
   "metadata": {},
   "source": [
    "# GOVT_SPEND\n",
    "The Federal Government Current Expenditures measures government spending, one of the components of the GDP. The data was available on quarterly basis and was subsequently converted.\n",
    "\n"
   ]
  },
  {
   "cell_type": "code",
   "execution_count": null,
   "metadata": {},
   "outputs": [],
   "source": [
    "govt_spend=pd.read_csv('FGEXPND.csv')\n",
    "govt_spend=govt_spend[govt_spend['DATE']>='2000-01-01']\n",
    "govt_spend[\"DATE\"]=pd.to_datetime(govt_spend[\"DATE\"])\n",
    "\n",
    "govt_spend_=[]\n",
    "for year in govt_spend['DATE'].dt.year.unique():\n",
    "    x=govt_spend[govt_spend['DATE'].dt.year==year]\n",
    "    for month in x['DATE'].dt.month.unique():\n",
    "        y=x[x['DATE'].dt.month==month]\n",
    "        for i in range(3):\n",
    "            govt_spend_.append(round(y['FGEXPND'].values.mean(),2))\n",
    "            \n",
    "govt_spend_data={'DATE':cpi[\"DATE\"],'FGEXPND':gpdi_}\n",
    "govt_spend_df=pd.DataFrame(govt_spend_data)"
   ]
  },
  {
   "cell_type": "code",
   "execution_count": null,
   "metadata": {},
   "outputs": [],
   "source": [
    "fig = go.Figure()\n",
    "fig.add_trace(go.Line(x=hpi['DATE'], y= govt_spend_, name='Federal Government Current Expenditures  ', marker_color='rgb(255, 22, 55)'))\n",
    "fig.update_layout(title='Federal Government Current Expenditures in the past 20 years',xaxis_tickfont_size=14,\n",
    "                  yaxis=dict(title='Index',titlefont_size=16,tickfont_size=14,),\n",
    "    legend=dict(x=0,y=1.0,bgcolor='rgba(255, 255, 255,0)',bordercolor='rgba(255, 255, 255, 0)'),barmode='group',bargap=0.15, bargroupgap=0.1)\n",
    "fig.show()"
   ]
  },
  {
   "cell_type": "markdown",
   "metadata": {},
   "source": [
    "# HCAI\n",
    "The Housing Credit Availability Index measures the percentage of owner-occupied home purchase loans that are likely to default. A lower HCAI indicates that lenders are unwilling to tolerate defaults and are imposing tighter lending standards, making it harder to get a loan. The data was available on quarterly basis and was subsequently converted."
   ]
  },
  {
   "cell_type": "code",
   "execution_count": null,
   "metadata": {},
   "outputs": [],
   "source": [
    "hcai=pd.read_csv('HCAI.csv')\n",
    "hcai_=[]\n",
    "for year in hcai['YEAR'].unique():\n",
    "    x=hcai[hcai['YEAR']==year]\n",
    "    for month in x['QUARTER']:\n",
    "        y=x[x['QUARTER']==month]\n",
    "        for i in range(3):\n",
    "            hcai_.append(round(y['HCAI'].values.mean(),2))\n",
    "# Repeating the same values for last quarter as the values were not available\n",
    "for i in range(3):\n",
    "            hcai_.append(round(y['HCAI'].values.mean(),2))\n",
    "hcai_data={'DATE':cpi[\"DATE\"],'HCAI':hcai_}\n",
    "hcai_df=pd.DataFrame(hcai_data)"
   ]
  },
  {
   "cell_type": "markdown",
   "metadata": {},
   "source": [
    "From the plot we can see that HCAI was at all time high at the time of recession and it dropped suddenly after that."
   ]
  },
  {
   "cell_type": "code",
   "execution_count": null,
   "metadata": {
    "scrolled": false
   },
   "outputs": [],
   "source": [
    "fig = go.Figure()\n",
    "fig.add_trace(go.Line(x=hpi['DATE'], y= hcai['HCAI'], name='Housing Credit Availability Index ', marker_color='rgb(255, 22, 55)'))\n",
    "fig.update_layout(title='Housing Credit Availability Index in the past 20 years',xaxis_tickfont_size=14,\n",
    "                  yaxis=dict(title='Index',titlefont_size=16,tickfont_size=14,),\n",
    "    legend=dict(x=0,y=1.0,bgcolor='rgba(255, 255, 255,0)',bordercolor='rgba(255, 255, 255, 0)'),barmode='group',bargap=0.15, bargroupgap=0.1)\n",
    "fig.show()"
   ]
  },
  {
   "cell_type": "markdown",
   "metadata": {},
   "source": [
    "# HPI\n",
    "The Case-Shiller Home Price Index is the leading measure of U.S. residential real estate prices, tracking changes in the value of residential real estate nationally. Our response variable."
   ]
  },
  {
   "cell_type": "code",
   "execution_count": null,
   "metadata": {},
   "outputs": [],
   "source": [
    "hpi=pd.read_csv(\"CSUSHPISA.csv\")\n",
    "hpi=hpi[hpi['DATE']>='2000-01-01']"
   ]
  },
  {
   "cell_type": "code",
   "execution_count": null,
   "metadata": {},
   "outputs": [],
   "source": [
    "fig = go.Figure()\n",
    "fig.add_trace(go.Line(x=hpi['DATE'], y= hpi['CSUSHPISA'], name='Home Price Index ', marker_color='rgb(255, 22, 55)'))\n",
    "fig.update_layout(title='Home Price Index in the past 20 years',xaxis_tickfont_size=14,\n",
    "                  yaxis=dict(title='Index',titlefont_size=16,tickfont_size=14,),\n",
    "    legend=dict(x=0,y=1.0,bgcolor='rgba(255, 255, 255,0)',bordercolor='rgba(255, 255, 255, 0)'),barmode='group',bargap=0.15, bargroupgap=0.1)\n",
    "fig.show()"
   ]
  },
  {
   "cell_type": "markdown",
   "metadata": {},
   "source": [
    "# PREDICTION\n",
    "Combinig the datasets into a single dataframe of 13 features and 252 rows"
   ]
  },
  {
   "cell_type": "code",
   "execution_count": null,
   "metadata": {},
   "outputs": [],
   "source": [
    "dataframes=[cpi, unemployment, interest_rates,cons_confidence,supply,per_consumption,one_family_sales,workingage_pop,construction_spend,mort_rates_df,gdpi_df,hcai_df,govt_spend_df,hpi]\n",
    "from functools import reduce\n",
    "X = reduce(lambda  left,right: pd.merge(left,right,on=['DATE'],\n",
    "                                            how='outer'), dataframes)"
   ]
  },
  {
   "cell_type": "code",
   "execution_count": null,
   "metadata": {},
   "outputs": [],
   "source": [
    "X.iloc[:,1:]"
   ]
  },
  {
   "cell_type": "code",
   "execution_count": null,
   "metadata": {},
   "outputs": [],
   "source": [
    "y=pd.read_csv(\"CSUSHPISA.csv\")\n",
    "y=y[y['DATE']>='2000-01-01']"
   ]
  },
  {
   "cell_type": "code",
   "execution_count": null,
   "metadata": {},
   "outputs": [],
   "source": [
    "X=X.iloc[:,1:].values\n",
    "y=y.iloc[:,1:].values"
   ]
  },
  {
   "cell_type": "code",
   "execution_count": null,
   "metadata": {},
   "outputs": [],
   "source": [
    "X_train, X_test, y_train, y_test = train_test_split(X, y, test_size = 0.2, random_state = 0)"
   ]
  },
  {
   "cell_type": "code",
   "execution_count": null,
   "metadata": {},
   "outputs": [],
   "source": [
    "param_grid = {\n",
    "    'bootstrap': [True],\n",
    "    'max_depth': [80, 90, 100, 110],\n",
    "    'max_features': [2, 3],\n",
    "    'min_samples_leaf': [3, 4, 5],\n",
    "    'min_samples_split': [8, 10, 12],\n",
    "    'n_estimators': [100, 200, 300, 1000]\n",
    "}\n",
    "# Create a based model\n",
    "rf = RandomForestRegressor()\n",
    "# Instantiate the grid search model\n",
    "grid_search = GridSearchCV(estimator = rf, param_grid = param_grid, \n",
    "                          cv = 3, n_jobs = -1, verbose = 2)\n",
    "grids.fit(X_train,y_train)\n",
    "print(grids.best_params_)"
   ]
  },
  {
   "cell_type": "code",
   "execution_count": null,
   "metadata": {},
   "outputs": [],
   "source": [
    "rf_regressor = RandomForestRegressor(n_estimators=1000, max_depth = 50, random_state=0)\n",
    "rf_regressor.fit(X_train, y_train)\n",
    "y_pred_rf = regressor_rf.predict(X_test)\n"
   ]
  },
  {
   "cell_type": "code",
   "execution_count": null,
   "metadata": {},
   "outputs": [],
   "source": []
  },
  {
   "cell_type": "code",
   "execution_count": null,
   "metadata": {},
   "outputs": [],
   "source": [
    "print('Mean Absolute Error using Random Forest Regressor :', mean_absolute_error(y_test, y_pred_rf))\n",
    "print('Mean Squared Error using Random Forest Regressor', mean_squared_error(y_test, y_pred_rf))\n",
    "print('Root Mean Squared Error using Random Forest Regressor':, np.sqrt(mean_squared_error(y_test, y_pred_rf)))"
   ]
  },
  {
   "cell_type": "code",
   "execution_count": 538,
   "metadata": {},
   "outputs": [
    {
     "name": "stdout",
     "output_type": "stream",
     "text": [
      "[17:18:38] WARNING: C:/Jenkins/workspace/xgboost-win64_release_0.90/src/objective/regression_obj.cu:152: reg:linear is now deprecated in favor of reg:squarederror.\n"
     ]
    }
   ],
   "source": [
    "import xgboost\n",
    "model = xgboost.XGBRegressor(colsample_bytree=0.9,\n",
    "                 gamma=0,  \n",
    "                 learning_rate=0.01,\n",
    "                 max_depth=10,\n",
    "                 min_child_weight=1.9,\n",
    "                 n_estimators=10000,                                                                    \n",
    "                 reg_alpha=0.75,\n",
    "                 reg_lambda=0.45,\n",
    "                 subsample=0.6,\n",
    "                 seed=42)\n",
    "model.fit(X_train, y_train)\n",
    "y_pred=model.predict(X_test)"
   ]
  },
  {
   "cell_type": "code",
   "execution_count": 539,
   "metadata": {},
   "outputs": [
    {
     "name": "stdout",
     "output_type": "stream",
     "text": [
      "Mean Absolute Error: 0.5099190374636171\n",
      "Mean Squared Error: 0.8255793859161151\n",
      "Root Mean Squared Error: 0.90861399170171\n"
     ]
    }
   ],
   "source": [
    "print('Mean Absolute Error:', mean_absolute_error(y_test, y_pred))\n",
    "print('Mean Squared Error:', mean_squared_error(y_test, y_pred))\n",
    "print('Root Mean Squared Error:', np.sqrt(mean_squared_error(y_test, y_pred)))"
   ]
  },
  {
   "cell_type": "code",
   "execution_count": 547,
   "metadata": {
    "scrolled": false
   },
   "outputs": [],
   "source": [
    "regressor = SVR()\n",
    "regressor.fit(X_train, y_train)\n",
    "y_pred = regressor.predict(X_test)"
   ]
  },
  {
   "cell_type": "code",
   "execution_count": 548,
   "metadata": {},
   "outputs": [
    {
     "name": "stdout",
     "output_type": "stream",
     "text": [
      "Mean Absolute Error: 22.501968998573002\n",
      "Mean Squared Error: 790.4855729057587\n",
      "Root Mean Squared Error: 28.11557527253815\n"
     ]
    }
   ],
   "source": [
    "print('Mean Absolute Error:', mean_absolute_error(y_test, y_pred))\n",
    "print('Mean Squared Error:', mean_squared_error(y_test, y_pred))\n",
    "print('Root Mean Squared Error:', np.sqrt(mean_squared_error(y_test, y_pred)))"
   ]
  },
  {
   "cell_type": "code",
   "execution_count": 549,
   "metadata": {},
   "outputs": [],
   "source": [
    "from sklearn.model_selection import GridSearchCV\n",
    "from sklearn.metrics import classification_report"
   ]
  },
  {
   "cell_type": "code",
   "execution_count": null,
   "metadata": {},
   "outputs": [],
   "source": [
    "param = {'kernel': ('linear', 'rbf','poly'), 'C':[1.5, 10],'gamma': [1e-7, 1e-4],'epsilon':[0.1,0.2,0.5,0.3]}\n",
    "\n",
    "modelsvr = SVR()\n",
    "\n",
    "grids = GridSearchCV(modelsvr,param,cv=5)\n",
    "\n",
    "grids.fit(X_train,y_train)\n",
    "print(grids.best_params_)\n",
    "print(means = clf.cv_results_['mean_test_score'])"
   ]
  },
  {
   "cell_type": "code",
   "execution_count": null,
   "metadata": {},
   "outputs": [],
   "source": [
    "cpi= pd.read_csv(r\"CPIAUCSL.csv\")\n",
    "unemployment= pd.read_csv('UNRATE.csv')\n",
    "interest_rates=pd.read_csv('FEDFUNDS.csv')\n",
    "cons_confidence=pd.read_csv('CSCICP03USM665S.csv')\n",
    "supply=pd.read_csv('MSACSR.csv')\n",
    "per_consumption=pd.read_csv('PCE.csv')\n",
    "one_family_sales=pd.read_csv('HSN1F.csv')\n",
    "workingage_pop=pd.read_csv('LFWA64TTUSM647S.csv')\n",
    "construction_spend=pd.read_csv('TTLCONS.csv')\n",
    "mortgage=pd.read_csv('MORTGAGE30US.csv')\n",
    "gdpi=pd.read_csv('GPDI.csv')\n",
    "hcai=pd.read_csv('HCAI.csv')\n",
    "hpi=pd.read_csv('CSUSHPISA.csv')\n",
    "govt_spend=pd.read_csv('FGEXPND.csv')"
   ]
  }
 ],
 "metadata": {
  "kernelspec": {
   "display_name": "Python 3",
   "language": "python",
   "name": "python3"
  },
  "language_info": {
   "codemirror_mode": {
    "name": "ipython",
    "version": 3
   },
   "file_extension": ".py",
   "mimetype": "text/x-python",
   "name": "python",
   "nbconvert_exporter": "python",
   "pygments_lexer": "ipython3",
   "version": "3.7.3"
  }
 },
 "nbformat": 4,
 "nbformat_minor": 2
}
